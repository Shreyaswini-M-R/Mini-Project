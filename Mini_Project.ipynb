{
  "nbformat": 4,
  "nbformat_minor": 0,
  "metadata": {
    "colab": {
      "name": "Mini Project.ipynb",
      "provenance": [],
      "collapsed_sections": [],
      "authorship_tag": "ABX9TyNt9WWGR3TxAPG0QZmLLEc1",
      "include_colab_link": true
    },
    "kernelspec": {
      "name": "python3",
      "display_name": "Python 3"
    }
  },
  "cells": [
    {
      "cell_type": "markdown",
      "metadata": {
        "id": "view-in-github",
        "colab_type": "text"
      },
      "source": [
        "<a href=\"https://colab.research.google.com/github/Shreyaswini-M-R/Mini-Project/blob/main/Mini_Project.ipynb\" target=\"_parent\"><img src=\"https://colab.research.google.com/assets/colab-badge.svg\" alt=\"Open In Colab\"/></a>"
      ]
    },
    {
      "cell_type": "code",
      "metadata": {
        "id": "Yn0vqUyFWwnf"
      },
      "source": [
        "# Image Classification"
      ],
      "execution_count": null,
      "outputs": []
    },
    {
      "cell_type": "code",
      "metadata": {
        "id": "txHskZB2XyMK"
      },
      "source": [
        "# Import Libraries\n",
        "import os\n",
        "import matplotlib.pyplot as plt\n",
        "import numpy as np\n",
        "import pickle"
      ],
      "execution_count": null,
      "outputs": []
    },
    {
      "cell_type": "code",
      "metadata": {
        "id": "guX0VhDIW_52"
      },
      "source": [
        "# 1. Gather Data\n",
        "\n",
        "# By Using Bing Image Downloader\n",
        "!pip install bing-image-downloader"
      ],
      "execution_count": null,
      "outputs": []
    },
    {
      "cell_type": "code",
      "metadata": {
        "id": "FkSScZS3cSr0"
      },
      "source": [
        "# Create a new folder\n",
        "!mkdir images"
      ],
      "execution_count": null,
      "outputs": []
    },
    {
      "cell_type": "code",
      "metadata": {
        "id": "Uj7MI09ncYgh"
      },
      "source": [
        "# Download Images\n",
        "from bing_image_downloader import downloader\n",
        "downloader.download(\"blueberry fruit\",limit=30,output_dir='images',adult_filter_off=True)\n",
        "downloader.download(\"puma animal\",limit=30,output_dir='images',adult_filter_off=True)\n",
        "downloader.download(\"lotus flower\",limit=30,output_dir='images',adult_filter_off=True)"
      ],
      "execution_count": null,
      "outputs": []
    },
    {
      "cell_type": "code",
      "metadata": {
        "id": "fKH2Ca2vcu5s"
      },
      "source": [
        "# 2. Preprocess Data\n",
        "\n",
        "# Resizing and Flattening images\n",
        "# Iterating through the images\n",
        "\n",
        "from skimage.io import imread\n",
        "from skimage.transform import resize\n",
        "\n",
        "output = []\n",
        "images = []\n",
        "flat_data = []\n",
        "\n",
        "DATADIR = '/content/images'\n",
        "CATEGORIES = ['blueberry fruit','puma animal','lotus flower']\n",
        "\n",
        "for category in CATEGORIES:\n",
        "  class_num = CATEGORIES.index(category)\n",
        "  path = os.path.join(DATADIR,category)\n",
        "  for img in os.listdir(path):\n",
        "    img_array = imread(os.path.join(path,img))\n",
        "    img_resized = resize(img_array,(150,150,3))     # Resizing the images\n",
        "    flat_data.append(img_resized.flatten())         # Flattening the images\n",
        "    images.append(img_resized)\n",
        "    output.append(class_num)\n",
        "flat_data = np.array(flat_data)\n",
        "output = np.array(output)\n",
        "images = np.array(images)"
      ],
      "execution_count": null,
      "outputs": []
    },
    {
      "cell_type": "code",
      "metadata": {
        "id": "NLPoC1VChjXs"
      },
      "source": [
        "# Split data into Training and Texting\n",
        "from sklearn.model_selection import train_test_split\n",
        "x_train,x_test,y_train,y_test = train_test_split(flat_data,output,test_size=0.5,random_state=50)"
      ],
      "execution_count": null,
      "outputs": []
    },
    {
      "cell_type": "code",
      "metadata": {
        "id": "ZWAijt0UiyLP"
      },
      "source": [
        "# 3. Algorithm\n",
        "\n",
        "# Using GridSearchCV\n",
        "# Using SVM Algorithm\n",
        "\n",
        "from sklearn.model_selection import GridSearchCV\n",
        "from sklearn import svm\n",
        "param_grid = [\n",
        "              {'C':[1,10,100,1000],'kernel':['linear']},\n",
        "              {'C':[1,10,100,1000],'gamma':[0.001,0.0001],'kernel':['rbf']},\n",
        "]\n",
        "\n",
        "svc = svm.SVC(probability=True)\n",
        "clf = GridSearchCV(svc,param_grid)\n",
        "clf.fit(x_train,y_train)"
      ],
      "execution_count": null,
      "outputs": []
    },
    {
      "cell_type": "code",
      "metadata": {
        "id": "Xlr_rTSGkgmM"
      },
      "source": [
        "# 4. Evaluate Model\n",
        "\n",
        "from sklearn.metrics import accuracy_score,confusion_matrix\n",
        "y_pred = clf.predict(x_test)\n",
        "print(accuracy_score(y_pred,y_test))\n",
        "print(confusion_matrix(y_pred,y_test))"
      ],
      "execution_count": null,
      "outputs": []
    },
    {
      "cell_type": "code",
      "metadata": {
        "id": "hJHzSPOfpAlJ"
      },
      "source": [
        "# 5. Predict for a new Image\n",
        "\n",
        "import pickle\n",
        "pickle.dump(clf,open('img_model.p','wb'))\n",
        "model = pickle.load(open('img_model.p','rb'))\n",
        "\n",
        "flat_data = []\n",
        "url = input('Enter your URL')\n",
        "img = imread(url)\n",
        "img_resized = resize(img,(150,150,3))\n",
        "flat_data.append(img_resized.flatten())\n",
        "flat_data = np.array(flat_data)\n",
        "print(img.shape)\n",
        "plt.imshow(img_resized)\n",
        "y_out = model.predict(flat_data)\n",
        "y_out = CATEGORIES[y_out[0]]\n",
        "print(f' PREDICTED OUTPUT: {y_out}')"
      ],
      "execution_count": null,
      "outputs": []
    },
    {
      "cell_type": "code",
      "metadata": {
        "id": "hk_Deizrq9_9"
      },
      "source": [
        ""
      ],
      "execution_count": null,
      "outputs": []
    }
  ]
}